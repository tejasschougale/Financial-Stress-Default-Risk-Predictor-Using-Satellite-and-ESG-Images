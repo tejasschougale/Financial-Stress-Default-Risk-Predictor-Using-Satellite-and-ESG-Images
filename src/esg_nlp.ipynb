{
 "cells": [
  {
   "metadata": {
    "ExecuteTime": {
     "end_time": "2025-07-15T10:23:27.686112Z",
     "start_time": "2025-07-15T10:23:27.619172Z"
    }
   },
   "cell_type": "code",
   "source": [
    "import os\n",
    "import pandas as pd\n",
    "from eventregistry import *\n",
    "from psycopg2.extras import execute_values\n",
    "from dotenv import load_dotenv\n",
    "from utils import get_db_connection, log\n",
    "from datetime import datetime\n",
    "from psycopg2.extras import execute_values\n",
    "load_dotenv()\n"
   ],
   "id": "32e9f1ccb551c970",
   "outputs": [
    {
     "data": {
      "text/plain": [
       "True"
      ]
     },
     "execution_count": 18,
     "metadata": {},
     "output_type": "execute_result"
    }
   ],
   "execution_count": 18
  },
  {
   "metadata": {
    "ExecuteTime": {
     "end_time": "2025-07-15T10:23:27.718890Z",
     "start_time": "2025-07-15T10:23:27.707513Z"
    }
   },
   "cell_type": "code",
   "source": [
    "api_key = os.getenv(\"EVENT_REGISTRY_API_KEY\")\n",
    "er = EventRegistry(apiKey=api_key)\n"
   ],
   "id": "9b30db91fed320ad",
   "outputs": [],
   "execution_count": 19
  },
  {
   "metadata": {
    "ExecuteTime": {
     "end_time": "2025-07-15T10:23:29.338679Z",
     "start_time": "2025-07-15T10:23:27.770801Z"
    }
   },
   "cell_type": "code",
   "source": [
    "concept_uri = er.getConceptUri(\"Protest\")\n",
    "\n",
    "q = QueryArticlesIter(\n",
    "    keywords=\"Caterpillar\",\n",
    "    conceptUri=concept_uri,\n",
    "    lang=\"eng\",\n",
    "    dataType=[\"news\", \"pr\"],\n",
    "    dateStart=\"2024-12-01\",\n",
    "    dateEnd=datetime.today().strftime(\"%Y-%m-%d\")\n",
    ")\n",
    "\n",
    "articles = []\n",
    "for i, article in enumerate(q.execQuery(er)):\n",
    "    if i >= 50:\n",
    "        break\n",
    "\n",
    "    location = (\n",
    "        article.get(\"location\", {}).get(\"label\") or\n",
    "        article.get(\"source\", {}).get(\"location\", {}).get(\"label\") or\n",
    "        \"Unknown\"\n",
    "    )\n",
    "\n",
    "    articles.append({\n",
    "        \"date\": article.get(\"date\"),\n",
    "        \"source\": article.get(\"source\", {}).get(\"title\", \"\"),\n",
    "        \"url\": article.get(\"url\", \"\"),\n",
    "        \"title\": article.get(\"title\", \"\"),\n",
    "        \"location\": location,\n",
    "        \"event\": \"Protest\"\n",
    "    })\n",
    "\n",
    "\n",
    "df = pd.DataFrame(articles)\n",
    "log(f\"Fetched {len(df)} ESG articles.\")\n",
    "df.head()\n"
   ],
   "id": "e66d6ac608ea7753",
   "outputs": [
    {
     "name": "stdout",
     "output_type": "stream",
     "text": [
      "[LOG] Fetched 23 ESG articles.\n"
     ]
    },
    {
     "data": {
      "text/plain": [
       "         date                     source  \\\n",
       "0  2025-06-26             FuelCellsWorks   \n",
       "1  2025-06-19    Canadian Mining Journal   \n",
       "2  2025-07-14      African Mining Market   \n",
       "3  2025-07-03  International Rental News   \n",
       "4  2025-06-27             FuelCellsWorks   \n",
       "\n",
       "                                                 url  \\\n",
       "0  https://fuelcellsworks.com/2025/06/26/green-hy...   \n",
       "1  https://www.canadianminingjournal.com/news/cat...   \n",
       "2  https://africanminingmarket.com/caterpillar-an...   \n",
       "3  https://www.internationalrentalnews.com/news/c...   \n",
       "4  https://fuelcellsworks.com/2025/06/27/h2/cater...   \n",
       "\n",
       "                                               title location    event  \n",
       "0  Caterpillar to Demonstrate Hydrogen CHP System...  Unknown  Protest  \n",
       "1  Caterpillar's MINExpo 2024 booth design receiv...  Unknown  Protest  \n",
       "2  Caterpillar and Luck Stone celebrate 1 million...  Unknown  Protest  \n",
       "3  Caterpillar targets power rentals as grid inst...  Unknown  Protest  \n",
       "4  Caterpillar and District Energy St. Paul Demon...  Unknown  Protest  "
      ],
      "text/html": [
       "<div>\n",
       "<style scoped>\n",
       "    .dataframe tbody tr th:only-of-type {\n",
       "        vertical-align: middle;\n",
       "    }\n",
       "\n",
       "    .dataframe tbody tr th {\n",
       "        vertical-align: top;\n",
       "    }\n",
       "\n",
       "    .dataframe thead th {\n",
       "        text-align: right;\n",
       "    }\n",
       "</style>\n",
       "<table border=\"1\" class=\"dataframe\">\n",
       "  <thead>\n",
       "    <tr style=\"text-align: right;\">\n",
       "      <th></th>\n",
       "      <th>date</th>\n",
       "      <th>source</th>\n",
       "      <th>url</th>\n",
       "      <th>title</th>\n",
       "      <th>location</th>\n",
       "      <th>event</th>\n",
       "    </tr>\n",
       "  </thead>\n",
       "  <tbody>\n",
       "    <tr>\n",
       "      <th>0</th>\n",
       "      <td>2025-06-26</td>\n",
       "      <td>FuelCellsWorks</td>\n",
       "      <td>https://fuelcellsworks.com/2025/06/26/green-hy...</td>\n",
       "      <td>Caterpillar to Demonstrate Hydrogen CHP System...</td>\n",
       "      <td>Unknown</td>\n",
       "      <td>Protest</td>\n",
       "    </tr>\n",
       "    <tr>\n",
       "      <th>1</th>\n",
       "      <td>2025-06-19</td>\n",
       "      <td>Canadian Mining Journal</td>\n",
       "      <td>https://www.canadianminingjournal.com/news/cat...</td>\n",
       "      <td>Caterpillar's MINExpo 2024 booth design receiv...</td>\n",
       "      <td>Unknown</td>\n",
       "      <td>Protest</td>\n",
       "    </tr>\n",
       "    <tr>\n",
       "      <th>2</th>\n",
       "      <td>2025-07-14</td>\n",
       "      <td>African Mining Market</td>\n",
       "      <td>https://africanminingmarket.com/caterpillar-an...</td>\n",
       "      <td>Caterpillar and Luck Stone celebrate 1 million...</td>\n",
       "      <td>Unknown</td>\n",
       "      <td>Protest</td>\n",
       "    </tr>\n",
       "    <tr>\n",
       "      <th>3</th>\n",
       "      <td>2025-07-03</td>\n",
       "      <td>International Rental News</td>\n",
       "      <td>https://www.internationalrentalnews.com/news/c...</td>\n",
       "      <td>Caterpillar targets power rentals as grid inst...</td>\n",
       "      <td>Unknown</td>\n",
       "      <td>Protest</td>\n",
       "    </tr>\n",
       "    <tr>\n",
       "      <th>4</th>\n",
       "      <td>2025-06-27</td>\n",
       "      <td>FuelCellsWorks</td>\n",
       "      <td>https://fuelcellsworks.com/2025/06/27/h2/cater...</td>\n",
       "      <td>Caterpillar and District Energy St. Paul Demon...</td>\n",
       "      <td>Unknown</td>\n",
       "      <td>Protest</td>\n",
       "    </tr>\n",
       "  </tbody>\n",
       "</table>\n",
       "</div>"
      ]
     },
     "execution_count": 20,
     "metadata": {},
     "output_type": "execute_result"
    }
   ],
   "execution_count": 20
  },
  {
   "metadata": {
    "ExecuteTime": {
     "end_time": "2025-07-15T10:23:29.695750Z",
     "start_time": "2025-07-15T10:23:29.394935Z"
    }
   },
   "cell_type": "code",
   "source": [
    "def load_esg_to_db(df):\n",
    "    if df.empty:\n",
    "        log(\"⚠️ No ESG articles to insert.\")\n",
    "        return\n",
    "\n",
    "    with get_db_connection() as conn:\n",
    "        with conn.cursor() as cur:\n",
    "            cur.execute(\"\"\"\n",
    "                CREATE TABLE IF NOT EXISTS esg_events (\n",
    "                    id SERIAL PRIMARY KEY,\n",
    "                    date TIMESTAMP,\n",
    "                    source TEXT,\n",
    "                    url TEXT,\n",
    "                    title TEXT,\n",
    "                    location TEXT,\n",
    "                    event TEXT\n",
    "                );\n",
    "            \"\"\")\n",
    "            conn.commit()\n",
    "\n",
    "            cur.execute(\"TRUNCATE TABLE esg_events;\")\n",
    "            conn.commit()\n",
    "            log(\"⚠️ Cleared old ESG articles.\")\n",
    "\n",
    "            values = [tuple(row) for row in df.to_numpy()]\n",
    "            insert_sql = \"\"\"\n",
    "                INSERT INTO esg_events (date, source, url, title, location, event)\n",
    "                VALUES %s\n",
    "            \"\"\"\n",
    "            execute_values(cur, insert_sql, values)\n",
    "        conn.commit()\n",
    "    log(f\"✔ Inserted {len(df)} ESG articles into esg_events.\")\n",
    "\n",
    "load_esg_to_db(df)\n"
   ],
   "id": "3353e952099c2a77",
   "outputs": [
    {
     "name": "stdout",
     "output_type": "stream",
     "text": [
      "[LOG] ⚠️ Cleared old ESG articles.\n",
      "[LOG] ✔ Inserted 23 ESG articles into esg_events.\n"
     ]
    }
   ],
   "execution_count": 21
  }
 ],
 "metadata": {
  "kernelspec": {
   "display_name": "Python (cleanenv)",
   "language": "python",
   "name": "cleanenv"
  },
  "language_info": {
   "codemirror_mode": {
    "name": "ipython",
    "version": 2
   },
   "file_extension": ".py",
   "mimetype": "text/x-python",
   "name": "python",
   "nbconvert_exporter": "python",
   "pygments_lexer": "ipython2",
   "version": "2.7.6"
  }
 },
 "nbformat": 4,
 "nbformat_minor": 5
}
