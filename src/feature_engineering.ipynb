{
 "cells": [
  {
   "metadata": {
    "collapsed": true,
    "ExecuteTime": {
     "end_time": "2025-07-15T10:23:54.113393Z",
     "start_time": "2025-07-15T10:23:53.302593Z"
    }
   },
   "cell_type": "code",
   "source": [
    "import os\n",
    "import numpy as np\n",
    "import pandas as pd\n",
    "from datetime import timedelta\n",
    "from sqlalchemy import create_engine\n",
    "from dotenv import load_dotenv\n",
    "from utils import get_db_connection, log\n",
    "\n",
    "load_dotenv()\n",
    "\n",
    "def load_data():\n",
    "    with get_db_connection() as conn:\n",
    "        esg = pd.read_sql(\"SELECT * FROM esg_events\", conn)\n",
    "        sat = pd.read_sql(\"SELECT * FROM satellite_signals\", conn)\n",
    "    return esg, sat\n",
    "\n",
    "def get_company_sites():\n",
    "    return pd.DataFrame([\n",
    "        {\"company\": \"Caterpillar\", \"site_id\": \"TX1\", \"lat\": 32.8721, \"lon\": -96.9391, \"region\": \"Irving, Texas\"},\n",
    "        {\"company\": \"Caterpillar\", \"site_id\": \"IL1\", \"lat\": 40.565, \"lon\": -89.625, \"region\": \"Peoria, Illinois\"},\n",
    "        {\"company\": \"Caterpillar\", \"site_id\": \"IL2\", \"lat\": 40.666, \"lon\": -89.580, \"region\": \"East Peoria, Illinois\"},\n",
    "        {\"company\": \"Caterpillar\", \"site_id\": \"IL3\", \"lat\": 40.848, \"lon\": -89.611, \"region\": \"Mossville, Illinois\"},\n",
    "        {\"company\": \"Caterpillar\", \"site_id\": \"GA1\", \"lat\": 33.949, \"lon\": -83.537, \"region\": \"Athens, Georgia\"},\n",
    "        {\"company\": \"Caterpillar\", \"site_id\": \"CN1\", \"lat\": 34.204, \"lon\": 117.284, \"region\": \"Xuzhou, China\"},\n",
    "        {\"company\": \"Caterpillar\", \"site_id\": \"CN2\", \"lat\": 31.491, \"lon\": 120.311, \"region\": \"Wuxi, China\"},\n",
    "        {\"company\": \"Caterpillar\", \"site_id\": \"JP1\", \"lat\": 34.644, \"lon\": 134.997, \"region\": \"Akashi, Japan\"},\n",
    "        {\"company\": \"Caterpillar\", \"site_id\": \"UK1\", \"lat\": 54.756, \"lon\": -1.336, \"region\": \"Peterlee, United Kingdom\"},\n",
    "        {\"company\": \"Caterpillar\", \"site_id\": \"IN1\", \"lat\": 13.082, \"lon\": 80.271, \"region\": \"Thiruvallur, India\"},\n",
    "        {\"company\": \"Caterpillar\", \"site_id\": \"BR1\", \"lat\": -23.550, \"lon\": -46.633, \"region\": \"São Paulo, Brazil\"},\n",
    "        {\"company\": \"Caterpillar\", \"site_id\": \"TX2\", \"lat\": 29.7604, \"lon\": -95.3698, \"region\": \"Houston, Texas\"},\n",
    "        {\"company\": \"Caterpillar\", \"site_id\": \"GA2\", \"lat\": 33.7490, \"lon\": -84.3880, \"region\": \"Atlanta, Georgia\"},\n",
    "        {\"company\": \"Caterpillar\", \"site_id\": \"IN2\", \"lat\": 11.1271, \"lon\": 78.6569, \"region\": \"Tamil Nadu, India\"},\n",
    "        {\"company\": \"Caterpillar\", \"site_id\": \"MX1\", \"lat\": 25.6866, \"lon\": -100.3161, \"region\": \"Monterrey, Mexico\"},\n",
    "        {\"company\": \"Caterpillar\", \"site_id\": \"AU1\", \"lat\": -31.9505, \"lon\": 115.8605, \"region\": \"Perth, Australia\"}\n",
    "    ])\n",
    "\n",
    "def build_features(esg, sat, company_sites):\n",
    "    esg[\"date\"] = pd.to_datetime(esg[\"date\"])\n",
    "    sat[\"acq_date\"] = pd.to_datetime(sat[\"acq_date\"])\n",
    "    features = []\n",
    "\n",
    "    for _, site in company_sites.iterrows():\n",
    "        esg_site = esg[esg[\"location\"].str.contains(site[\"region\"].split(\",\")[0], case=False, na=False)]\n",
    "        sat_site = sat[\n",
    "            (np.abs(sat[\"latitude\"] - site[\"lat\"]) <= 2.0) &\n",
    "            (np.abs(sat[\"longitude\"] - site[\"lon\"]) <= 2.0)\n",
    "        ]\n",
    "\n",
    "        for day in pd.date_range(\"2024-01-01\", \"2025-06-30\", freq=\"W\"):\n",
    "            esg_count = esg_site[(esg_site[\"date\"] >= day - timedelta(days=7)) & (esg_site[\"date\"] <= day)].shape[0]\n",
    "            avg_frp = sat_site[(sat_site[\"acq_date\"] >= day - timedelta(days=7)) & (sat_site[\"acq_date\"] <= day)][\"frp\"].mean()\n",
    "\n",
    "            features.append({\n",
    "                \"company\": site[\"company\"],\n",
    "                \"site_id\": site[\"site_id\"],\n",
    "                \"date\": day,\n",
    "                \"esg_event_count_7d\": esg_count,\n",
    "                \"avg_frp_7d\": avg_frp if not np.isnan(avg_frp) else 0.0\n",
    "            })\n",
    "\n",
    "    return pd.DataFrame(features)\n",
    "\n",
    "def save_features_to_db(df):\n",
    "    db_url = os.getenv(\"DATABASE_URL\").replace(\"postgresql+psycopg2\", \"postgresql\")\n",
    "    engine = create_engine(db_url)\n",
    "    df.to_sql(\"risk_features\", engine, index=False, if_exists=\"replace\")\n",
    "    log(\"✔ risk_features saved to PostgreSQL.\")\n",
    "\n",
    "if __name__ == \"__main__\":\n",
    "    log(\"🚀 Starting feature engineering...\")\n",
    "    esg, sat = load_data()\n",
    "    company_sites = get_company_sites()\n",
    "    df = build_features(esg, sat, company_sites)\n",
    "    save_features_to_db(df)\n"
   ],
   "id": "initial_id",
   "outputs": [
    {
     "name": "stdout",
     "output_type": "stream",
     "text": [
      "[LOG] 🚀 Starting feature engineering...\n"
     ]
    },
    {
     "name": "stderr",
     "output_type": "stream",
     "text": [
      "/var/folders/3y/jcf5sjb1319blyc1b_cfn1xm0000gn/T/ipykernel_25178/2999396115.py:13: UserWarning: pandas only supports SQLAlchemy connectable (engine/connection) or database string URI or sqlite3 DBAPI2 connection. Other DBAPI2 objects are not tested. Please consider using SQLAlchemy.\n",
      "  esg = pd.read_sql(\"SELECT * FROM esg_events\", conn)\n",
      "/var/folders/3y/jcf5sjb1319blyc1b_cfn1xm0000gn/T/ipykernel_25178/2999396115.py:14: UserWarning: pandas only supports SQLAlchemy connectable (engine/connection) or database string URI or sqlite3 DBAPI2 connection. Other DBAPI2 objects are not tested. Please consider using SQLAlchemy.\n",
      "  sat = pd.read_sql(\"SELECT * FROM satellite_signals\", conn)\n"
     ]
    },
    {
     "name": "stdout",
     "output_type": "stream",
     "text": [
      "[LOG] ✔ risk_features saved to PostgreSQL.\n"
     ]
    }
   ],
   "execution_count": 8
  }
 ],
 "metadata": {
  "kernelspec": {
   "display_name": "Python (base)",
   "language": "python",
   "name": "base"
  },
  "language_info": {
   "codemirror_mode": {
    "name": "ipython",
    "version": 2
   },
   "file_extension": ".py",
   "mimetype": "text/x-python",
   "name": "python",
   "nbconvert_exporter": "python",
   "pygments_lexer": "ipython2",
   "version": "2.7.6"
  }
 },
 "nbformat": 4,
 "nbformat_minor": 5
}
